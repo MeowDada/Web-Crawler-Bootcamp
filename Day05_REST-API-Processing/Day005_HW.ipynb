{
 "cells": [
  {
   "cell_type": "markdown",
   "metadata": {},
   "source": [
    "# API 資料串接 - 以 Dcard API 實作範例\n",
    "\n",
    "* 利用 urllib 套件的 urlretrieve 方法下載檔案\n",
    "* 了解 Python File I/O 讀檔、寫檔的用法\n",
    "* 能用運用資源管理器 With Statement 優化寫法"
   ]
  },
  {
   "cell_type": "markdown",
   "metadata": {},
   "source": [
    "## 作業目標\n",
    "\n",
    "* 請利用 API: https://www.dcard.tw/_api/forums/pet/posts?popular=true 回答下列問題：\n",
    "\n",
    "1. 這個 API 一次會回傳幾筆資料？每一筆資料包含哪些欄位？\n",
    "2. 取出每一筆資料的「標題」、「貼文時間」、「留言人數」、「按讚人數」\n",
    "3. 計算熱門/非熱門文章的「平均留言人數」與「平均按讚人數」"
   ]
  },
  {
   "cell_type": "markdown",
   "metadata": {},
   "source": [
    "# 1. 這個 API 一次會回傳幾筆資料？每一筆資料包含哪些欄位？"
   ]
  },
  {
   "cell_type": "code",
   "execution_count": 1,
   "metadata": {},
   "outputs": [
    {
     "name": "stdout",
     "output_type": "stream",
     "text": [
      "總共回傳 30 筆資料\n",
      "欄位: ['id', 'title', 'excerpt', 'anonymousSchool', 'anonymousDepartment', 'pinned', 'forumId', 'replyId', 'createdAt', 'updatedAt', 'commentCount', 'likeCount', 'withNickname', 'tags', 'topics', 'meta', 'forumName', 'forumAlias', 'gender', 'school', 'department', 'replyTitle', 'mediaMeta', 'reactions', 'hidden', 'customStyle', 'isSuspiciousAccount', 'layout', 'withImages', 'withVideos', 'media', 'reportReasonText', 'postAvatar']\n"
     ]
    }
   ],
   "source": [
    "import requests\n",
    "import json\n",
    "\n",
    "url = 'https://www.dcard.tw/_api/forums/pet/posts?popular=true'\n",
    "\n",
    "r = requests.get(url)\n",
    "data = json.loads(r.text)\n",
    "\n",
    "num_return = len(data)\n",
    "labels = []\n",
    "for d in data:\n",
    "    for key, _ in d.items():\n",
    "        labels.append(key)\n",
    "    break\n",
    "\n",
    "print('總共回傳', num_return, '筆資料')\n",
    "print('欄位:', labels)"
   ]
  },
  {
   "cell_type": "markdown",
   "metadata": {},
   "source": [
    "# 2. 取出每一筆資料的「標題」、「貼文時間」、「留言人數」、「按讚人數」"
   ]
  },
  {
   "cell_type": "code",
   "execution_count": 2,
   "metadata": {},
   "outputs": [
    {
     "name": "stdout",
     "output_type": "stream",
     "text": [
      "['#更。不要被薩摩耶給騙了！', '2019-11-29T00:25:38.826Z', 158, 9883]\n",
      "['#貓 #圖 我懷疑我家貓咪根本不覺得自己是貓咪', '2019-11-29T15:01:23.745Z', 11, 563]\n",
      "['🐰誰說兔子不能碰水！兔子❤️海灘', '2019-11-29T07:34:46.328Z', 39, 519]\n",
      "['找回失蹤狗狗😭 原來妳也在找我們', '2019-11-29T22:33:34.440Z', 19, 438]\n",
      "['高以翔的療癒系狗狗theo', '2019-11-29T13:52:33.150Z', 3, 375]\n",
      "['吸貓治百病', '2019-11-29T06:53:05.300Z', 7, 178]\n",
      "['就是你！！！我的菜！！！', '2019-11-29T03:10:51.060Z', 0, 64]\n",
      "['有愛的假兄弟', '2019-11-29T04:09:24.480Z', 0, 44]\n",
      "['我家柴犬一系列照片', '2019-11-29T05:02:04.820Z', 4, 38]\n",
      "['囤貓囤起來😻/圖多文長', '2019-11-29T03:41:19.070Z', 4, 31]\n",
      "['有人要吸兔嗎？', '2019-11-30T04:58:10.195Z', 11, 24]\n",
      "['有貓快拜！！', '2019-11-30T03:07:22.599Z', 0, 23]\n",
      "['免費寵物溝通', '2019-11-29T11:58:23.732Z', 17, 21]\n",
      "['限動裡的小三線們', '2019-11-29T04:00:40.448Z', 5, 19]\n",
      "['被擠床原來是一件幸福的事', '2019-11-30T04:15:42.699Z', 3, 17]\n",
      "['虎斑狗想找寵物溝通師', '2019-11-29T15:22:07.842Z', 2, 15]\n",
      "['求助！剛接回家的小貓生病了嗎', '2019-11-29T13:35:26.621Z', 3, 14]\n",
      "['貓男友的拍照技術', '2019-11-29T13:28:45.211Z', 2, 14]\n",
      "['威~柯基你母湯喔', '2019-11-29T09:44:50.199Z', 0, 14]\n",
      "['躲起來睡覺的喵咪', '2019-11-29T11:53:20.503Z', 0, 13]\n",
      "['限動滿滿的老鼠是怎樣', '2019-11-29T09:05:18.406Z', 19, 12]\n",
      "['圖 厭世貓化石梗圖', '2019-11-29T13:38:15.413Z', 1, 11]\n",
      "['#柴 #影片 到底有多討厭洗澡', '2019-11-30T03:24:55.897Z', 0, 10]\n",
      "['貓咪走失了😭😭台中，水湳', '2019-11-29T12:46:13.912Z', 0, 10]\n",
      "['自己的主子最可愛', '2019-11-29T05:09:30.489Z', 1, 10]\n",
      "['6個月小布偶貓 放臭屁', '2019-11-29T15:56:00.789Z', 6, 9]\n",
      "['鳥', '2019-11-29T09:55:59.346Z', 11, 9]\n",
      "['貓咪尾巴狂抖是正常的嗎', '2019-11-29T14:12:31.389Z', 9, 8]\n",
      "['就只知道睡', '2019-11-29T12:25:50.680Z', 2, 8]\n",
      "['從可愛的小寶寶變成破壞王', '2019-11-29T06:52:19.590Z', 4, 8]\n"
     ]
    }
   ],
   "source": [
    "r = requests.get(url)\n",
    "data = json.loads(r.text)\n",
    "\n",
    "datas = []\n",
    "\n",
    "for d in data:\n",
    "    title = d['title']\n",
    "    timing = d['createdAt']\n",
    "    num_reply = d['commentCount']\n",
    "    like_count = d['likeCount']\n",
    "    datas.append([title, timing, num_reply, like_count])\n",
    "\n",
    "for data in datas:\n",
    "    print(data)\n"
   ]
  },
  {
   "cell_type": "markdown",
   "metadata": {},
   "source": [
    "# 3. 計算熱門/非熱門文章的「平均留言人數」與「平均按讚人數」"
   ]
  },
  {
   "cell_type": "code",
   "execution_count": 3,
   "metadata": {},
   "outputs": [
    {
     "name": "stdout",
     "output_type": "stream",
     "text": [
      "熱門文章 平均留言人數: 11.366666666666667 平均按讚人數: 413.4\n",
      "非熱門文章 平均留言人數: 3.2 平均按讚人數: 39.666666666666664\n"
     ]
    }
   ],
   "source": [
    "popular_url = 'https://www.dcard.tw/_api/forums/pet/posts?popular=true'\n",
    "non_popular_url = 'https://www.dcard.tw/_api/forums/pet/posts?popular=false'\n",
    "\n",
    "r = requests.get(popular_url)\n",
    "data = json.loads(r.text)\n",
    "\n",
    "num = len(data)\n",
    "\n",
    "popular_reply = 0\n",
    "popular_likes = 0\n",
    "non_popular_reply = 0\n",
    "non_popular_likes = 0\n",
    "\n",
    "for d in data:\n",
    "    popular_reply += d['commentCount']\n",
    "    popular_likes += d['likeCount']\n",
    "\n",
    "avg_popular_replys = popular_reply / num\n",
    "avg_popular_likes = popular_likes / num\n",
    "\n",
    "r = requests.get(non_popular_url)\n",
    "data = json.loads(r.text)\n",
    "\n",
    "for d in data:\n",
    "    non_popular_reply += d['commentCount']\n",
    "    non_popular_likes += d['likeCount']\n",
    "\n",
    "avg_non_popluar_replys = non_popular_reply / num\n",
    "avg_non_popular_likes = non_popular_likes / num\n",
    "\n",
    "print('熱門文章 平均留言人數:', avg_popular_replys, '平均按讚人數:', avg_popular_likes)\n",
    "print('非熱門文章 平均留言人數:', avg_non_popluar_replys, '平均按讚人數:', avg_non_popular_likes)"
   ]
  }
 ],
 "metadata": {
  "kernelspec": {
   "display_name": "Python 3",
   "language": "python",
   "name": "python3"
  },
  "language_info": {
   "codemirror_mode": {
    "name": "ipython",
    "version": 3
   },
   "file_extension": ".py",
   "mimetype": "text/x-python",
   "name": "python",
   "nbconvert_exporter": "python",
   "pygments_lexer": "ipython3",
   "version": "3.7.3"
  }
 },
 "nbformat": 4,
 "nbformat_minor": 2
}
